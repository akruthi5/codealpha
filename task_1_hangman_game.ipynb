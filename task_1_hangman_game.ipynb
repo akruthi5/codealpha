{
  "nbformat": 4,
  "nbformat_minor": 0,
  "metadata": {
    "colab": {
      "provenance": [],
      "authorship_tag": "ABX9TyPx8hi0YSGeUyyz5TMgjptw",
      "include_colab_link": true
    },
    "kernelspec": {
      "name": "python3",
      "display_name": "Python 3"
    },
    "language_info": {
      "name": "python"
    }
  },
  "cells": [
    {
      "cell_type": "markdown",
      "metadata": {
        "id": "view-in-github",
        "colab_type": "text"
      },
      "source": [
        "<a href=\"https://colab.research.google.com/github/akruthi5/codealpha/blob/main/task_1_hangman_game.ipynb\" target=\"_parent\"><img src=\"https://colab.research.google.com/assets/colab-badge.svg\" alt=\"Open In Colab\"/></a>"
      ]
    },
    {
      "cell_type": "code",
      "source": [
        "import random\n",
        "\n",
        "# List of words to guess\n",
        "word_list = ['python', 'javascript', 'hangman', 'developer', 'machine', 'learning', 'algorithm', 'data', 'science', 'programming']\n",
        "\n",
        "# Function to choose a random word from the list\n",
        "def choose_word():\n",
        "    return random.choice(word_list)\n",
        "\n",
        "# Function to display the current state of the word\n",
        "def display_word(word, guessed_letters):\n",
        "    return ' '.join([letter if letter in guessed_letters else '_' for letter in word])\n",
        "\n",
        "# Function to play the Hangman game\n",
        "def play_hangman():\n",
        "    word = choose_word()  # Select a random word\n",
        "    guessed_letters = []  # List of guessed letters\n",
        "    attempts = 6  # Number of attempts allowed\n",
        "    correct_guesses = set()  # Set of correctly guessed letters\n",
        "    wrong_guesses = set()  # Set of wrong guesses\n",
        "\n",
        "    print(\"Welcome to Hangman!\")\n",
        "    print(\"Try to guess the word. You have 6 incorrect guesses.\")\n",
        "\n",
        "    # Game loop\n",
        "    while attempts > 0:\n",
        "        # Display the current word with guessed letters\n",
        "        print(\"\\nCurrent word:\", display_word(word, guessed_letters))\n",
        "        print(\"Attempts remaining:\", attempts)\n",
        "        print(\"Incorrect guesses:\", ' '.join(wrong_guesses))\n",
        "\n",
        "        # Get player's guess\n",
        "        guess = input(\"Enter a letter: \").lower()\n",
        "\n",
        "        # Check if input is valid\n",
        "        if len(guess) != 1 or not guess.isalpha():\n",
        "            print(\"Please enter a single letter.\")\n",
        "            continue\n",
        "\n",
        "        # If letter is already guessed\n",
        "        if guess in guessed_letters or guess in wrong_guesses:\n",
        "            print(f\"You already guessed the letter '{guess}'. Try again.\")\n",
        "            continue\n",
        "\n",
        "        # Check if the guessed letter is in the word\n",
        "        if guess in word:\n",
        "            print(f\"Good guess! The letter '{guess}' is in the word.\")\n",
        "            correct_guesses.add(guess)\n",
        "        else:\n",
        "            print(f\"Sorry, the letter '{guess}' is not in the word.\")\n",
        "            wrong_guesses.add(guess)\n",
        "            attempts -= 1\n",
        "\n",
        "        guessed_letters = list(correct_guesses)\n",
        "\n",
        "        # Check if the word is fully guessed\n",
        "        if all(letter in correct_guesses for letter in word):\n",
        "            print(f\"\\nCongratulations! You guessed the word '{word}' correctly!\")\n",
        "            break\n",
        "\n",
        "    if attempts == 0:\n",
        "        print(f\"\\nGame Over! The word was '{word}'. Better luck next time!\")\n",
        "\n",
        "# Run the game\n",
        "play_hangman()\n"
      ],
      "metadata": {
        "colab": {
          "base_uri": "https://localhost:8080/"
        },
        "id": "nQ_Ni5K0_CYR",
        "outputId": "e950d2a0-38b8-4064-cf24-f2b7caadc384"
      },
      "execution_count": 1,
      "outputs": [
        {
          "output_type": "stream",
          "name": "stdout",
          "text": [
            "Welcome to Hangman!\n",
            "Try to guess the word. You have 6 incorrect guesses.\n",
            "\n",
            "Current word: _ _ _ _ _ _ _\n",
            "Attempts remaining: 6\n",
            "Incorrect guesses: \n",
            "Enter a letter: h\n",
            "Good guess! The letter 'h' is in the word.\n",
            "\n",
            "Current word: h _ _ _ _ _ _\n",
            "Attempts remaining: 6\n",
            "Incorrect guesses: \n",
            "Enter a letter: a\n",
            "Good guess! The letter 'a' is in the word.\n",
            "\n",
            "Current word: h a _ _ _ a _\n",
            "Attempts remaining: 6\n",
            "Incorrect guesses: \n",
            "Enter a letter: n\n",
            "Good guess! The letter 'n' is in the word.\n",
            "\n",
            "Current word: h a n _ _ a n\n",
            "Attempts remaining: 6\n",
            "Incorrect guesses: \n",
            "Enter a letter: g\n",
            "Good guess! The letter 'g' is in the word.\n",
            "\n",
            "Current word: h a n g _ a n\n",
            "Attempts remaining: 6\n",
            "Incorrect guesses: \n",
            "Enter a letter: m\n",
            "Good guess! The letter 'm' is in the word.\n",
            "\n",
            "Congratulations! You guessed the word 'hangman' correctly!\n"
          ]
        }
      ]
    }
  ]
}